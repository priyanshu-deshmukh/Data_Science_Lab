{
  "cells": [
    {
      "cell_type": "markdown",
      "metadata": {
        "id": "K32Gux2BfST-"
      },
      "source": [
        "<h1>Experiment 6</h1>\n",
        "<p><u>Aim:</u> Create univariate and bivariate visualizations using Seaborn to understand data distribution, correlation, and trends.</p>\n"
      ]
    },
    {
      "cell_type": "code",
      "execution_count": null,
      "metadata": {
        "colab": {
          "base_uri": "https://localhost:8080/",
          "height": 206
        },
        "id": "bdd2fad6",
        "outputId": "cd3012c5-2cc1-40b1-b140-4c89b6f2f12d"
      },
      "outputs": [],
      "source": [
        "import pandas as pd\n",
        "import seaborn as sns\n",
        "import matplotlib.pyplot as plt\n",
        "\n",
        "car_crashes_url = 'https://raw.githubusercontent.com/mwaskom/seaborn-data/master/car_crashes.csv'\n",
        "car_crashes_df = pd.read_csv(car_crashes_url)\n",
        "\n",
        "display(car_crashes_df.head())"
      ]
    },
    {
      "cell_type": "markdown",
      "metadata": {
        "id": "0zemtyPejXbm"
      },
      "source": [
        "<h1><b>Univariate Visualization<b><h1>\n",
        "<ul>\n",
        "  <li>Histogram</li>\n",
        "  <li>Box Plot</li>\n",
        "  <li>Bar Chart</li>\n",
        "  "
      ]
    },
    {
      "cell_type": "code",
      "execution_count": null,
      "metadata": {
        "colab": {
          "base_uri": "https://localhost:8080/",
          "height": 472
        },
        "id": "7442b066",
        "outputId": "a62e3781-dcf8-4891-b761-dc6eb8424c0d"
      },
      "outputs": [],
      "source": [
        "#histplot\n",
        "sns.histplot(data=car_crashes_df, x='total', kde=True)\n",
        "plt.title('Distribution of Total Fatal Crashes')\n",
        "plt.xlabel('Total Fatal Crashes per Billion Vehicle Miles')\n",
        "plt.ylabel('Frequency')\n",
        "plt.show()"
      ]
    },
    {
      "cell_type": "code",
      "execution_count": null,
      "metadata": {
        "colab": {
          "base_uri": "https://localhost:8080/",
          "height": 433
        },
        "id": "ca053a2b",
        "outputId": "162384bf-6294-4674-dd95-8d853ba7ccb9"
      },
      "outputs": [],
      "source": [
        "# Box plot for 'ins_premium'\n",
        "sns.boxplot(data=car_crashes_df, y='ins_premium')\n",
        "plt.title('Distribution of Insurance Premium')\n",
        "plt.ylabel('Insurance Premium')\n",
        "plt.show()"
      ]
    },
    {
      "cell_type": "code",
      "execution_count": null,
      "metadata": {
        "colab": {
          "base_uri": "https://localhost:8080/",
          "height": 564
        },
        "id": "a36164b3",
        "outputId": "32e94896-2734-4603-c2e1-548e6c4398c9"
      },
      "outputs": [],
      "source": [
        "# Bar chart of average total crashes per state\n",
        "plt.figure(figsize=(12, 6))\n",
        "sns.barplot(data=car_crashes_df, x='total', y='abbrev', order=car_crashes_df.sort_values('total', ascending=False)['abbrev'])\n",
        "plt.title('Average Total Fatal Crashes per Billion Vehicle Miles by State')\n",
        "plt.xlabel('Average Total Fatal Crashes')\n",
        "plt.ylabel('State')\n",
        "plt.show()"
      ]
    },
    {
      "cell_type": "markdown",
      "metadata": {
        "id": "PhWnzH2ukPNn"
      },
      "source": [
        "<h1><b>Bivariate Visualization<b><h1>\n",
        "<ul>\n",
        "  <li>Scatterplot</li>\n",
        "  <li>Heat Map</li>"
      ]
    },
    {
      "cell_type": "code",
      "execution_count": null,
      "metadata": {
        "colab": {
          "base_uri": "https://localhost:8080/",
          "height": 1000
        },
        "id": "016f8316",
        "outputId": "dd82d715-00f0-46f6-e99d-b50337f593d0"
      },
      "outputs": [],
      "source": [
        "# Scatter plot of 'alcohol' vs 'ins_losses' colored by state\n",
        "plt.figure(figsize=(12, 8))\n",
        "sns.scatterplot(data=car_crashes_df, x='alcohol', y='ins_losses', hue='abbrev')\n",
        "plt.title('Alcohol Involvement vs Insurance Losses in Fatal Crashes by State')\n",
        "plt.xlabel('Alcohol Involvement (%)')\n",
        "plt.ylabel('Insurance Losses')\n",
        "plt.legend(title='State Abbreviation', bbox_to_anchor=(1.05, 1), loc='upper left')\n",
        "plt.tight_layout()\n",
        "plt.show()"
      ]
    },
    {
      "cell_type": "code",
      "execution_count": null,
      "metadata": {
        "colab": {
          "base_uri": "https://localhost:8080/",
          "height": 785
        },
        "id": "1ceb2581",
        "outputId": "26f35e44-7d4e-4df1-8f16-0f7c5a6c0f64"
      },
      "outputs": [],
      "source": [
        "# Calculate the correlation matrix\n",
        "correlation_matrix = car_crashes_df[['total', 'speeding', 'alcohol', 'not_distracted', 'no_previous', 'ins_premium', 'ins_losses']].corr()\n",
        "\n",
        "# Create a heatmap\n",
        "plt.figure(figsize=(10, 8))\n",
        "sns.heatmap(correlation_matrix, annot=True, cmap='coolwarm', fmt=\".2f\")\n",
        "plt.title('Correlation Matrix of Numerical Variables')\n",
        "plt.show()"
      ]
    }
  ],
  "metadata": {
    "colab": {
      "provenance": []
    },
    "kernelspec": {
      "display_name": "Python 3",
      "name": "python3"
    },
    "language_info": {
      "name": "python"
    }
  },
  "nbformat": 4,
  "nbformat_minor": 0
}
