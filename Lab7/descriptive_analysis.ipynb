{
  "cells": [
    {
      "cell_type": "markdown",
      "metadata": {
        "id": "UR_O-qCtlzSN"
      },
      "source": [
        "<h1><b>Experiment 7</b></h1>\n",
        "<u>Aim: </u>Perform descriptive statistical analysis (mean, median, std, variance, skewness, kurtosis). To derive statistical insights from raw data."
      ]
    },
    {
      "cell_type": "code",
      "execution_count": null,
      "metadata": {
        "colab": {
          "base_uri": "https://localhost:8080/"
        },
        "id": "eZFmzTTela-W",
        "outputId": "7e91ee15-61e6-4620-9bf8-e67932b76820"
      },
      "outputs": [],
      "source": [
        "import numpy as np\n",
        "import pandas as pd\n",
        "np.random.seed(42)\n",
        "data = np.random.normal(loc=70, scale=10, size=200)\n",
        "data"
      ]
    },
    {
      "cell_type": "code",
      "execution_count": null,
      "metadata": {
        "colab": {
          "base_uri": "https://localhost:8080/",
          "height": 424
        },
        "id": "vpnEH08Jm8eT",
        "outputId": "9d09c78d-a9af-4ba4-86e6-d2402f25a9d3"
      },
      "outputs": [],
      "source": [
        "df = pd.DataFrame(data, columns=['Marks'])\n",
        "df"
      ]
    },
    {
      "cell_type": "code",
      "execution_count": null,
      "metadata": {
        "colab": {
          "base_uri": "https://localhost:8080/"
        },
        "id": "uzoW08PWnOHH",
        "outputId": "92e99910-6e9c-4457-e722-f6fd440c5a5c"
      },
      "outputs": [],
      "source": [
        "from scipy.stats import skew, kurtosis\n",
        "\n",
        "marks_skew = skew(df['Marks'])\n",
        "marks_kurtosis = kurtosis(df['Marks'])\n",
        "print(\"Skewness:\", marks_skew)\n",
        "print(\"Kurtosis:\", marks_kurtosis)"
      ]
    },
    {
      "cell_type": "code",
      "execution_count": null,
      "metadata": {
        "colab": {
          "base_uri": "https://localhost:8080/"
        },
        "id": "e9561621",
        "outputId": "3b0880e0-5a32-4499-898f-5bd4aa9ac895"
      },
      "outputs": [],
      "source": [
        "# Calculate other descriptive statistics\n",
        "mean_marks = df['Marks'].mean()\n",
        "median_marks = df['Marks'].median()\n",
        "std_marks = df['Marks'].std()\n",
        "variance_marks = df['Marks'].var()\n",
        "\n",
        "# Print the results\n",
        "print(\"Mean:\", mean_marks)\n",
        "print(\"Median:\", median_marks)\n",
        "print(\"Standard Deviation:\", std_marks)\n",
        "print(\"Variance:\", variance_marks)"
      ]
    }
  ],
  "metadata": {
    "colab": {
      "provenance": []
    },
    "kernelspec": {
      "display_name": "Python 3",
      "name": "python3"
    },
    "language_info": {
      "name": "python"
    }
  },
  "nbformat": 4,
  "nbformat_minor": 0
}
